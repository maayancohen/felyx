{
  "nbformat": 4,
  "nbformat_minor": 0,
  "metadata": {
    "colab": {
      "name": "felyx.ipynb",
      "provenance": [],
      "collapsed_sections": [
        "MUsRGZvejkhJ",
        "uY1gyGVhjmv0"
      ],
      "toc_visible": true,
      "mount_file_id": "1Z6UIbPU7TyixwtgOoPbIyqRk_XnFJhS-",
      "authorship_tag": "ABX9TyOZEs38Mo6mXLEZN45MbxdL",
      "include_colab_link": true
    },
    "kernelspec": {
      "name": "python3",
      "display_name": "Python 3"
    }
  },
  "cells": [
    {
      "cell_type": "markdown",
      "metadata": {
        "id": "view-in-github",
        "colab_type": "text"
      },
      "source": [
        "<a href=\"https://colab.research.google.com/github/maayancohen/felyx/blob/main/felyx.ipynb\" target=\"_parent\"><img src=\"https://colab.research.google.com/assets/colab-badge.svg\" alt=\"Open In Colab\"/></a>"
      ]
    },
    {
      "cell_type": "markdown",
      "metadata": {
        "id": "MUsRGZvejkhJ"
      },
      "source": [
        "# Data Ingestion pipeline: PostgreSQL\n"
      ]
    },
    {
      "cell_type": "markdown",
      "metadata": {
        "id": "ZPBlpn4knDUU"
      },
      "source": [
        "Create PotgreSQL database\n"
      ]
    },
    {
      "cell_type": "code",
      "metadata": {
        "colab": {
          "base_uri": "https://localhost:8080/"
        },
        "id": "k9IwbLfCZzHM",
        "outputId": "2e0a3998-4614-468b-897b-56975fefdec8"
      },
      "source": [
        "!apt install postgresql postgresql-contrib &>log\n",
        "!service postgresql start\n",
        "!sudo -u postgres psql -c \"CREATE USER root WITH SUPERUSER\"\n",
        "# avoid printing connections\n",
        "con_py = \"/usr/local/lib/python3.6/dist-packages/sql/connection.py\"\n",
        "!sed -i 's/ print(cls.connection_list())/ if len(cls.connections)>1:print(cls.connection_list())/' $con_py\n",
        "# setup client with magic"
      ],
      "execution_count": 70,
      "outputs": [
        {
          "output_type": "stream",
          "text": [
            " * Starting PostgreSQL 10 database server\n",
            "   ...done.\n",
            "CREATE ROLE\n"
          ],
          "name": "stdout"
        }
      ]
    },
    {
      "cell_type": "markdown",
      "metadata": {
        "id": "tjfxQhpOmRqe"
      },
      "source": [
        "Connect to the database\n",
        "\n",
        "\n",
        "---\n",
        "\n",
        "\n",
        "\n"
      ]
    },
    {
      "cell_type": "code",
      "metadata": {
        "colab": {
          "base_uri": "https://localhost:8080/",
          "height": 89
        },
        "id": "eUz5-Sj4bx0B",
        "outputId": "71f01e7c-9f30-4ae2-bf4f-230794518745"
      },
      "source": [
        "%load_ext sql\n",
        "%config SqlMagic.feedback=False \n",
        "%config SqlMagic.autopandas=True\n",
        "%sql postgresql+psycopg2://@/postgres\n"
      ],
      "execution_count": 71,
      "outputs": [
        {
          "output_type": "stream",
          "text": [
            "/usr/local/lib/python3.6/dist-packages/psycopg2/__init__.py:144: UserWarning: The psycopg2 wheel package will be renamed from release 2.8; in order to keep installing from binary please use \"pip install psycopg2-binary\" instead. For details see: <http://initd.org/psycopg/docs/install.html#binary-install-from-pypi>.\n",
            "  \"\"\")\n"
          ],
          "name": "stderr"
        },
        {
          "output_type": "execute_result",
          "data": {
            "application/vnd.google.colaboratory.intrinsic+json": {
              "type": "string"
            },
            "text/plain": [
              "'Connected: @postgres'"
            ]
          },
          "metadata": {
            "tags": []
          },
          "execution_count": 71
        }
      ]
    },
    {
      "cell_type": "markdown",
      "metadata": {
        "id": "ul0syeZ8mo1J"
      },
      "source": [
        "Create reservations table\n",
        "\n",
        "---\n",
        "\n"
      ]
    },
    {
      "cell_type": "code",
      "metadata": {
        "colab": {
          "base_uri": "https://localhost:8080/"
        },
        "id": "AZ1c4T7vZRY4",
        "outputId": "9bc606aa-a249-45c5-b953-984b5f21ff2d"
      },
      "source": [
        "%%sql\n",
        "CREATE TABLE reservations\n",
        "(\n",
        "  rowid serial,\n",
        "  id         integer,\n",
        "  customer_id numeric,\n",
        "  start_latitude  numeric(16,6),\n",
        "  start_longitude numeric(16,6),\n",
        "  srid      integer,\n",
        "  net_price numeric(16,6)\n",
        ")"
      ],
      "execution_count": 76,
      "outputs": [
        {
          "output_type": "stream",
          "text": [
            "(psycopg2.ProgrammingError) relation \"reservations\" already exists\n",
            "\n",
            "[SQL: CREATE TABLE reservations\n",
            "(\n",
            "  rowid serial,\n",
            "  id         integer,\n",
            "  customer_id numeric,\n",
            "  start_latitude  numeric(16,6),\n",
            "  start_longitude numeric(16,6),\n",
            "  srid      integer,\n",
            "  net_price numeric(16,6)\n",
            ")]\n",
            "(Background on this error at: http://sqlalche.me/e/13/f405)\n"
          ],
          "name": "stdout"
        }
      ]
    },
    {
      "cell_type": "code",
      "metadata": {
        "colab": {
          "base_uri": "https://localhost:8080/",
          "height": 32
        },
        "id": "J1W9hnz4hVdC",
        "outputId": "0d31a86e-d3a2-434c-c377-655205c9bcaf"
      },
      "source": [
        "# Truncate table for testing purposes (idempotency)\n",
        "%%sql\n",
        "TRUNCATE table reservations"
      ],
      "execution_count": 83,
      "outputs": [
        {
          "output_type": "execute_result",
          "data": {
            "text/html": [
              "<div>\n",
              "<style scoped>\n",
              "    .dataframe tbody tr th:only-of-type {\n",
              "        vertical-align: middle;\n",
              "    }\n",
              "\n",
              "    .dataframe tbody tr th {\n",
              "        vertical-align: top;\n",
              "    }\n",
              "\n",
              "    .dataframe thead th {\n",
              "        text-align: right;\n",
              "    }\n",
              "</style>\n",
              "<table border=\"1\" class=\"dataframe\">\n",
              "  <thead>\n",
              "    <tr style=\"text-align: right;\">\n",
              "      <th></th>\n",
              "    </tr>\n",
              "  </thead>\n",
              "  <tbody>\n",
              "  </tbody>\n",
              "</table>\n",
              "</div>"
            ],
            "text/plain": [
              "Empty DataFrame\n",
              "Columns: []\n",
              "Index: []"
            ]
          },
          "metadata": {
            "tags": []
          },
          "execution_count": 83
        }
      ]
    },
    {
      "cell_type": "code",
      "metadata": {
        "colab": {
          "base_uri": "https://localhost:8080/",
          "height": 32
        },
        "id": "cRYh7qZ9eOwi",
        "outputId": "e2cf6eb4-788b-4f71-a42f-31fcffa06785"
      },
      "source": [
        "# Upload reservations csv file\n",
        "%%sql\n",
        "COPY reservations(rowid,id,customer_id,start_latitude,start_longitude,srid,net_price)\n",
        "FROM '/content/assignment_reservations.csv' DELIMITER ',' CSV HEADER;"
      ],
      "execution_count": 84,
      "outputs": [
        {
          "output_type": "execute_result",
          "data": {
            "text/html": [
              "<div>\n",
              "<style scoped>\n",
              "    .dataframe tbody tr th:only-of-type {\n",
              "        vertical-align: middle;\n",
              "    }\n",
              "\n",
              "    .dataframe tbody tr th {\n",
              "        vertical-align: top;\n",
              "    }\n",
              "\n",
              "    .dataframe thead th {\n",
              "        text-align: right;\n",
              "    }\n",
              "</style>\n",
              "<table border=\"1\" class=\"dataframe\">\n",
              "  <thead>\n",
              "    <tr style=\"text-align: right;\">\n",
              "      <th></th>\n",
              "    </tr>\n",
              "  </thead>\n",
              "  <tbody>\n",
              "  </tbody>\n",
              "</table>\n",
              "</div>"
            ],
            "text/plain": [
              "Empty DataFrame\n",
              "Columns: []\n",
              "Index: []"
            ]
          },
          "metadata": {
            "tags": []
          },
          "execution_count": 84
        }
      ]
    },
    {
      "cell_type": "code",
      "metadata": {
        "colab": {
          "base_uri": "https://localhost:8080/",
          "height": 419
        },
        "id": "HsUHsDt8eZG-",
        "outputId": "a41c8be5-d277-4cad-ec9c-51612d252762"
      },
      "source": [
        "# Check result\n",
        "%sql SELECT * FROM reservations"
      ],
      "execution_count": 86,
      "outputs": [
        {
          "output_type": "execute_result",
          "data": {
            "text/html": [
              "<div>\n",
              "<style scoped>\n",
              "    .dataframe tbody tr th:only-of-type {\n",
              "        vertical-align: middle;\n",
              "    }\n",
              "\n",
              "    .dataframe tbody tr th {\n",
              "        vertical-align: top;\n",
              "    }\n",
              "\n",
              "    .dataframe thead th {\n",
              "        text-align: right;\n",
              "    }\n",
              "</style>\n",
              "<table border=\"1\" class=\"dataframe\">\n",
              "  <thead>\n",
              "    <tr style=\"text-align: right;\">\n",
              "      <th></th>\n",
              "      <th>rowid</th>\n",
              "      <th>id</th>\n",
              "      <th>customer_id</th>\n",
              "      <th>start_latitude</th>\n",
              "      <th>start_longitude</th>\n",
              "      <th>srid</th>\n",
              "      <th>net_price</th>\n",
              "    </tr>\n",
              "  </thead>\n",
              "  <tbody>\n",
              "    <tr>\n",
              "      <th>0</th>\n",
              "      <td>0</td>\n",
              "      <td>3190619</td>\n",
              "      <td>21437</td>\n",
              "      <td>51.944996</td>\n",
              "      <td>4.475996</td>\n",
              "      <td>28992</td>\n",
              "      <td>58.000000</td>\n",
              "    </tr>\n",
              "    <tr>\n",
              "      <th>1</th>\n",
              "      <td>1</td>\n",
              "      <td>3190621</td>\n",
              "      <td>170043</td>\n",
              "      <td>51.913620</td>\n",
              "      <td>4.451897</td>\n",
              "      <td>28992</td>\n",
              "      <td>194.000000</td>\n",
              "    </tr>\n",
              "    <tr>\n",
              "      <th>2</th>\n",
              "      <td>2</td>\n",
              "      <td>3190622</td>\n",
              "      <td>146282</td>\n",
              "      <td>51.936062</td>\n",
              "      <td>4.466082</td>\n",
              "      <td>28992</td>\n",
              "      <td>83.000000</td>\n",
              "    </tr>\n",
              "    <tr>\n",
              "      <th>3</th>\n",
              "      <td>3</td>\n",
              "      <td>3190623</td>\n",
              "      <td>186654</td>\n",
              "      <td>51.931694</td>\n",
              "      <td>4.504046</td>\n",
              "      <td>28992</td>\n",
              "      <td>69.000000</td>\n",
              "    </tr>\n",
              "    <tr>\n",
              "      <th>4</th>\n",
              "      <td>4</td>\n",
              "      <td>3190624</td>\n",
              "      <td>182408</td>\n",
              "      <td>51.924194</td>\n",
              "      <td>4.468743</td>\n",
              "      <td>28992</td>\n",
              "      <td>142.000000</td>\n",
              "    </tr>\n",
              "    <tr>\n",
              "      <th>...</th>\n",
              "      <td>...</td>\n",
              "      <td>...</td>\n",
              "      <td>...</td>\n",
              "      <td>...</td>\n",
              "      <td>...</td>\n",
              "      <td>...</td>\n",
              "      <td>...</td>\n",
              "    </tr>\n",
              "    <tr>\n",
              "      <th>9995</th>\n",
              "      <td>9995</td>\n",
              "      <td>3219665</td>\n",
              "      <td>25471</td>\n",
              "      <td>51.917927</td>\n",
              "      <td>4.473958</td>\n",
              "      <td>28992</td>\n",
              "      <td>176.000000</td>\n",
              "    </tr>\n",
              "    <tr>\n",
              "      <th>9996</th>\n",
              "      <td>9996</td>\n",
              "      <td>3219666</td>\n",
              "      <td>38605</td>\n",
              "      <td>51.904621</td>\n",
              "      <td>4.486405</td>\n",
              "      <td>28992</td>\n",
              "      <td>103.000000</td>\n",
              "    </tr>\n",
              "    <tr>\n",
              "      <th>9997</th>\n",
              "      <td>9997</td>\n",
              "      <td>3219669</td>\n",
              "      <td>187030</td>\n",
              "      <td>51.924500</td>\n",
              "      <td>4.470992</td>\n",
              "      <td>28992</td>\n",
              "      <td>344.000000</td>\n",
              "    </tr>\n",
              "    <tr>\n",
              "      <th>9998</th>\n",
              "      <td>9998</td>\n",
              "      <td>3219671</td>\n",
              "      <td>55212</td>\n",
              "      <td>51.919949</td>\n",
              "      <td>4.480230</td>\n",
              "      <td>28992</td>\n",
              "      <td>139.000000</td>\n",
              "    </tr>\n",
              "    <tr>\n",
              "      <th>9999</th>\n",
              "      <td>9999</td>\n",
              "      <td>3219672</td>\n",
              "      <td>59283</td>\n",
              "      <td>51.910389</td>\n",
              "      <td>4.474854</td>\n",
              "      <td>28992</td>\n",
              "      <td>16.000000</td>\n",
              "    </tr>\n",
              "  </tbody>\n",
              "</table>\n",
              "<p>10000 rows × 7 columns</p>\n",
              "</div>"
            ],
            "text/plain": [
              "      rowid       id customer_id  ... start_longitude   srid   net_price\n",
              "0         0  3190619       21437  ...        4.475996  28992   58.000000\n",
              "1         1  3190621      170043  ...        4.451897  28992  194.000000\n",
              "2         2  3190622      146282  ...        4.466082  28992   83.000000\n",
              "3         3  3190623      186654  ...        4.504046  28992   69.000000\n",
              "4         4  3190624      182408  ...        4.468743  28992  142.000000\n",
              "...     ...      ...         ...  ...             ...    ...         ...\n",
              "9995   9995  3219665       25471  ...        4.473958  28992  176.000000\n",
              "9996   9996  3219666       38605  ...        4.486405  28992  103.000000\n",
              "9997   9997  3219669      187030  ...        4.470992  28992  344.000000\n",
              "9998   9998  3219671       55212  ...        4.480230  28992  139.000000\n",
              "9999   9999  3219672       59283  ...        4.474854  28992   16.000000\n",
              "\n",
              "[10000 rows x 7 columns]"
            ]
          },
          "metadata": {
            "tags": []
          },
          "execution_count": 86
        }
      ]
    },
    {
      "cell_type": "markdown",
      "metadata": {
        "id": "1LR8yoi1noVV"
      },
      "source": [
        "# Cloud Firestore (Firebase): NoSQL"
      ]
    },
    {
      "cell_type": "markdown",
      "metadata": {
        "id": "3jrARw1mn2vX"
      },
      "source": [
        ""
      ]
    },
    {
      "cell_type": "code",
      "metadata": {
        "id": "oxC4pHw-l-Tt",
        "colab": {
          "base_uri": "https://localhost:8080/"
        },
        "outputId": "aeac01a5-a6a5-4f35-8c72-4e3bda80009a"
      },
      "source": [
        "#/content/sodium-inverter-firebase-adminsdk-70ewr-0aa56175fa.json\n",
        "import firebase_admin\n",
        "from firebase_admin import credentials\n",
        "from firebase_admin import firestore\n",
        "\n",
        "\n",
        "# Use a service account\n",
        "cred = credentials.Certificate('/content/sodium-inverter-firebase-adminsdk-70ewr-b175aa415b.json')\n",
        "default_app = firebase_admin.initialize_app(cred)\n",
        "db = firestore.client()\n",
        "\n",
        "\n",
        "# Sample 10 random documents from the reservation collection\n",
        "doc_ref = db.collection(u'reservations').limit(10).stream()\n",
        "\n",
        "for doc in doc_ref:\n",
        "    if doc.exists:\n",
        "        print(doc.to_dict())\n",
        "#        print(f'{doc.to_dict()}')\n",
        "    else:\n",
        "        print(u'No such document!')\n",
        "firebase_admin.delete_app(default_app)\n",
        "\n"
      ],
      "execution_count": 2,
      "outputs": [
        {
          "output_type": "stream",
          "text": [
            "{'srid': 28992, 'customer_id': 21437, 'start_longitude': 4.475996, 'net_price': 58, 'id': 3190619, 'start_latitude': 51.944996}\n",
            "{'start_latitude': 51.91362, 'id': 3190621, 'srid': 28992, 'customer_id': 170043, 'start_longitude': 4.451897, 'net_price': 194}\n",
            "{'net_price': 462, 'id': 3190640, 'start_latitude': 51.923218, 'srid': 28992, 'customer_id': 56766, 'start_longitude': 4.486422}\n",
            "{'customer_id': 25270, 'srid': 28992, 'start_longitude': 4.497288, 'net_price': 142, 'id': 3190842, 'start_latitude': 51.928139}\n",
            "{'start_latitude': 51.915543, 'id': 3193307, 'customer_id': 22578, 'srid': 28992, 'start_longitude': 4.47678, 'net_price': 326}\n",
            "{'start_latitude': 51.927845, 'id': 3193308, 'srid': 28992, 'customer_id': 17681, 'start_longitude': 4.510067, 'net_price': 377}\n",
            "{'srid': 28992, 'customer_id': 179847, 'start_longitude': 4.447287, 'net_price': 179, 'start_latitude': 51.915932, 'id': 3193310}\n",
            "{'net_price': 333, 'id': 3193313, 'start_latitude': 51.929993, 'customer_id': 17681, 'srid': 28992, 'start_longitude': 4.508552}\n",
            "{'customer_id': 50690, 'srid': 28992, 'start_longitude': 4.478625, 'net_price': 267, 'id': 3193315, 'start_latitude': 51.928444}\n",
            "{'srid': 28992, 'customer_id': 16860, 'start_longitude': 4.479657, 'net_price': 196, 'id': 3193318, 'start_latitude': 51.920292}\n"
          ],
          "name": "stdout"
        }
      ]
    },
    {
      "cell_type": "markdown",
      "metadata": {
        "id": "uY1gyGVhjmv0"
      },
      "source": [
        "# Exposing the endpoints as Flask app routes"
      ]
    },
    {
      "cell_type": "code",
      "metadata": {
        "id": "5k8qZTYeBO0Q"
      },
      "source": [
        "!pip install flask-ngrok"
      ],
      "execution_count": null,
      "outputs": []
    },
    {
      "cell_type": "code",
      "metadata": {
        "colab": {
          "base_uri": "https://localhost:8080/"
        },
        "id": "pZV0APDF8jL9",
        "outputId": "ffaafc92-e928-4e0c-b142-6ddb71f6812f"
      },
      "source": [
        "from flask import Flask\n",
        "\n",
        "app = Flask(__name__ ,template_folder=\"drive/MyDrive/Colab Notebooks/templates\")\n",
        "run_with_ngrok(app)   #starts ngrok when the app is run\n",
        "\n",
        "@app.route('/')\n",
        "def home():\n",
        "  return 'Hello World'\n",
        "\n",
        "if __name__ == '__main__':\n",
        "  app.run()"
      ],
      "execution_count": 106,
      "outputs": [
        {
          "output_type": "stream",
          "text": [
            " * Serving Flask app \"__main__\" (lazy loading)\n",
            " * Environment: production\n",
            "\u001b[31m   WARNING: This is a development server. Do not use it in a production deployment.\u001b[0m\n",
            "\u001b[2m   Use a production WSGI server instead.\u001b[0m\n",
            " * Debug mode: off\n"
          ],
          "name": "stdout"
        },
        {
          "output_type": "stream",
          "text": [
            " * Running on http://127.0.0.1:5000/ (Press CTRL+C to quit)\n"
          ],
          "name": "stderr"
        },
        {
          "output_type": "stream",
          "text": [
            " * Running on http://7990b88be97f.ngrok.io\n",
            " * Traffic stats available on http://127.0.0.1:4040\n"
          ],
          "name": "stdout"
        },
        {
          "output_type": "stream",
          "text": [
            "127.0.0.1 - - [21/Jan/2021 17:40:24] \"\u001b[37mGET / HTTP/1.1\u001b[0m\" 200 -\n",
            "127.0.0.1 - - [21/Jan/2021 17:40:25] \"\u001b[33mGET /favicon.ico HTTP/1.1\u001b[0m\" 404 -\n"
          ],
          "name": "stderr"
        }
      ]
    },
    {
      "cell_type": "code",
      "metadata": {
        "cellView": "code",
        "id": "Vp4RXX2HBJr5"
      },
      "source": [
        "#@title Default title text\n",
        "from flask_ngrok import run_with_ngrok\n",
        "from flask import Flask, render_template\n",
        "app = Flask(__name__ ,template_folder=\"drive/MyDrive/Colab Notebooks/templates\")\n",
        "run_with_ngrok(app)   #starts ngrok when the app is run\n",
        "\n",
        "\n",
        "@app.route(\"/\")\n",
        "def home():\n",
        "    return render_template('index.html', title=\"endpoint1\")\n",
        "\n",
        "@app.route(\"/endpoint2\")\n",
        "def docs():\n",
        "    return render_template(\"index.html\", title=\"endpoint2\")\n",
        "\n",
        "@app.route(\"/endpoint3\")\n",
        "def about():\n",
        "    return render_template(\"index.html\", title=\"endpoint3\")\n",
        "\n",
        "\n",
        "app.run()"
      ],
      "execution_count": null,
      "outputs": []
    },
    {
      "cell_type": "markdown",
      "metadata": {
        "id": "iTojopHU2TU3"
      },
      "source": [
        "# Reservation Exposed With Cloud Functions:\n",
        "\n",
        "\n",
        "[Cloud function 1: Reservation Data](https://europe-west1-sodium-inverter.cloudfunctions.net/felyx-reservations)\n",
        "\n",
        "[Cloud function 1: Reservation Schema Structure](https://europe-west1-sodium-inverter.cloudfunctions.net/felyx-reservations-sql-schema)"
      ]
    }
  ]
}